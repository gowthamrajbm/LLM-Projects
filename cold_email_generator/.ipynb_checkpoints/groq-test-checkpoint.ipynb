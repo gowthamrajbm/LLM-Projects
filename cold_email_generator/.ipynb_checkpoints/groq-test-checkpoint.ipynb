{
 "cells": [
  {
   "cell_type": "code",
   "execution_count": 3,
   "id": "687c8781-0d0b-4f07-9fe6-edc6f0715b36",
   "metadata": {},
   "outputs": [],
   "source": [
    "from langchain_groq import ChatGroq\n",
    "\n",
    "llm = ChatGroq(\n",
    "    model=\"llama-3.1-70b-versatile\",\n",
    "    temperature=0,\n",
    "    max_tokens=None,\n",
    "    timeout=None,\n",
    "    max_retries=2,\n",
    "    api_key=\"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\"\n",
    "    # other params...\n",
    ")"
   ]
  },
  {
   "cell_type": "code",
   "execution_count": 5,
   "id": "cffd7a06-120e-43e2-93e1-58201315ebb9",
   "metadata": {},
   "outputs": [
    {
     "data": {
      "text/plain": [
       "\"Microsoft's first product was a version of the programming language BASIC for the Altair 8800 microcomputer. It was released in 1975 and was called Altair BASIC.\""
      ]
     },
     "execution_count": 5,
     "metadata": {},
     "output_type": "execute_result"
    }
   ],
   "source": [
    "response = llm.invoke(\"Microsoft's first product was ...\")\n",
    "response.content"
   ]
  },
  {
   "cell_type": "code",
   "execution_count": 14,
   "id": "699d78e0-51f0-4edf-b10d-13455f6c814a",
   "metadata": {},
   "outputs": [
    {
     "data": {
      "text/plain": [
       "'#ZEISS #SeeingBeyond #ZEISSDigitalInnovation #HealthSolutions #teamZEISS With considerable expertise in the high-tech sector and agile working methods, ZEISS Digital Innovation as part of the ZEISS group develops tailored digital and software solutions that shape markets. In the ZEISS Digital Innovation Health Solutions team we are +300 people based in Germany and Hungary, united by one passion: Creating digital health solutions today to improve people’s health tomorrow. Our mission is: To translate our in-depth healthcare and technology know-how into sustainable digital solutions to realize health innovations of ZEISS and external clients. Our software development and testing teams are deeply experienced and highly specialized. – ZEISS Digital Innovation Your Role at ZEISS Digital Innovation As a (Gen)AI Engineer, you will be tasked with developing and implementing state-of-the-art AI applications using Large Language Models, and Machine Learning algorithms and models. Your expertise is invaluable in our pursuit of developing intelligent software applications that drive innovation and effectively address complex problems. Besides enhancing our software development methods and digital solutions, you will also be involved in researching, assessing, organizing, and disseminating information about (Gen)AI, LLMs, and Machine Learning within our company, and offering guidance on various projects. Moreover, you will participate in use cases applying a highly agile and iterative process to examine the integration of (Gen)AI and LLM solutions at Proof of Concept (PoC) stage. You will be one of the (Gen)AI and LLM specialists at ZEISS Digital Innovation, working alongside a team of passionate colleagues. Your tasks include: Design, develop and implement scalable (Gen)AI applications for both internal and external clients Setup of new software development projects or PoCs and technical leadership of project teams Advise clients on challenges of implementing (Gen)AI solutions Design new AI products and refine product requirements Define a structured technical approach for solving complex use cases leveraging latest (Gen)AI capabilities Close collaboration and relationship building with decision makers Take part in code reviews, design decisions, and the production of technical documentation to ensure the resilience of AI solutions Document code, algorithms, and methodologies to facilitate knowledge sharing and collaboration Continuously explore and research new techniques, frameworks, and tools Your Profile If you are captivated by Generative AI, Large Language Models, and Machine Learning, and do you aspire to employ them in order to enhance human lives, we would be delighted to hear from you! Furthermore, you have the following profile: 3+ years experience in agile software development / architecture projects Proficiency in Python is a must Understanding and hands-on experience with GenAI – experience in two or more of the following fields: LLMs, prompt engineering, LangChain, RAG, semantic search, NLP, Agent systems, unstructured data Prior experience in leading small development teams on a technical basis, with the ability to take ownership of technical challenges Experience in MVP-/PoC-projects with uncertain requirements and outcomes A practical and forward-thinking approach Capability to devise technical solutions and convey them appropriately to stakeholders Very high willingness to learn new concepts and frameworks Fluent in both German and English, with the skill to effectively articulate intricate concepts What we offer As a foundation company, ZEISS is committed to a special social engagement also towards its own employees. This includes a variety of additional company offers for different stages of life. Our employees are the innovative backbone and driving force of our company. That is why you are our focus. Work and family: compensation for overtime through time off, flexible working models through part-time options and mobile working Additional benefits: award-winning company pension schemes, profit-sharing, diverse employee discounts, job ticket subsidies, subsidised company bicycles Health offers: online sports courses and webinars, cooperation with numerous fitness studios, ZEISS sports groups Development opportunities: qualification programs for employees and leaders, attractive career models, various internal participation opportunities We invite you to join #teamZEISS and help shape the future with us! Your ZEISS Recruiting Team Your ZEISS Recruiting Team: Anne-Maria Pilz, Sybille Lerche-Schlenkrich Step out of your comfort zone, excel and redefine the limits of what is possible. That’s just what our employees are doing every single day – in order to set the pace through our innovations and enable outstanding achievements. After all, behind every successful company are many great fascinating people. In a spacious modern setting full of opportunities for further development, ZEISS employees work in a place where expert knowledge and team spirit reign supreme. All of this is supported by a special ownership structure and the long-term goal of the Carl Zeiss Foundation: to bring science and society into the future together. Join us today. Inspire people tomorrow. Diversity is a part of ZEISS. We look forward to receiving your application regardless of gender, nationality, ethnic and social origin, religion, philosophy of life, disability, age, sexual orientation or identity. Apply now! It takes less than 10 minutes.'"
      ]
     },
     "execution_count": 14,
     "metadata": {},
     "output_type": "execute_result"
    }
   ],
   "source": [
    "from langchain_community.document_loaders import WebBaseLoader\n",
    "\n",
    "loader = WebBaseLoader(\"https://zeissgroup.wd3.myworkdayjobs.com/External/job/Dresden/XMLNAME--Gen-AI---Machine-Learning-Engineer--f-m-x-_JR_1037012?source=ZEISS\")\n",
    "page_data = loader.load().pop().metadata['description']\n",
    "page_data"
   ]
  },
  {
   "cell_type": "code",
   "execution_count": 20,
   "id": "00b2a718-f6f8-4e0a-994e-723da48595d9",
   "metadata": {},
   "outputs": [],
   "source": [
    "from langchain_core.prompts import PromptTemplate\n",
    "\n",
    "prompt_extract = PromptTemplate.from_template(\n",
    "    \"\"\"\n",
    "    ### SCRAPED TEXT FROM WEBSITE\n",
    "    {page_data}\n",
    "    ### INSTRUCTION:\n",
    "    The scraped text is from the career's page of a website.\n",
    "    Your job is to extract the postings and return them in JSON format containing the \n",
    "    following keys: `role`, `experience`, `skills` and `description`.\n",
    "    Only return the valid JSON.\n",
    "    ### VALID JSON (NO PREAMBLE):\n",
    "    \"\"\"\n",
    ")\n",
    "\n",
    "chain_extract = prompt_extract | llm\n",
    "res = chain_extract.invoke(input={'page_data': page_data})\n"
   ]
  },
  {
   "cell_type": "code",
   "execution_count": 21,
   "id": "24464ecb-0e08-49a0-aae4-e8e069641f4b",
   "metadata": {},
   "outputs": [
    {
     "data": {
      "text/plain": [
       "{'role': '(Gen)AI Engineer',\n",
       " 'experience': '3+ years experience in agile software development / architecture projects',\n",
       " 'skills': ['Python',\n",
       "  'Generative AI',\n",
       "  'Large Language Models',\n",
       "  'Machine Learning',\n",
       "  'LLMs',\n",
       "  'prompt engineering',\n",
       "  'LangChain',\n",
       "  'RAG',\n",
       "  'semantic search',\n",
       "  'NLP',\n",
       "  'Agent systems',\n",
       "  'unstructured data',\n",
       "  'German',\n",
       "  'English'],\n",
       " 'description': 'Develop and implement state-of-the-art AI applications using Large Language Models, and Machine Learning algorithms and models. Research, assess, organize, and disseminate information about (Gen)AI, LLMs, and Machine Learning within the company, and offer guidance on various projects. Participate in use cases applying a highly agile and iterative process to examine the integration of (Gen)AI and LLM solutions at Proof of Concept (PoC) stage.'}"
      ]
     },
     "execution_count": 21,
     "metadata": {},
     "output_type": "execute_result"
    }
   ],
   "source": [
    "from langchain_core.output_parsers import JsonOutputParser\n",
    "\n",
    "json_parser = JsonOutputParser()\n",
    "json_res = json_parser.parse(res.content)\n",
    "\n",
    "json_res"
   ]
  },
  {
   "cell_type": "code",
   "execution_count": 23,
   "id": "ab6fb2a5-6a40-40f8-9e14-3925d08d52cf",
   "metadata": {},
   "outputs": [
    {
     "data": {
      "text/html": [
       "<div>\n",
       "<style scoped>\n",
       "    .dataframe tbody tr th:only-of-type {\n",
       "        vertical-align: middle;\n",
       "    }\n",
       "\n",
       "    .dataframe tbody tr th {\n",
       "        vertical-align: top;\n",
       "    }\n",
       "\n",
       "    .dataframe thead th {\n",
       "        text-align: right;\n",
       "    }\n",
       "</style>\n",
       "<table border=\"1\" class=\"dataframe\">\n",
       "  <thead>\n",
       "    <tr style=\"text-align: right;\">\n",
       "      <th></th>\n",
       "      <th>Techstack</th>\n",
       "      <th>Links</th>\n",
       "    </tr>\n",
       "  </thead>\n",
       "  <tbody>\n",
       "    <tr>\n",
       "      <th>0</th>\n",
       "      <td>MERN (MongoDB, Express, React, Node.js)</td>\n",
       "      <td>https://yourdomain.com/mern-portfolio/index.html</td>\n",
       "    </tr>\n",
       "    <tr>\n",
       "      <th>1</th>\n",
       "      <td>MEAN (MongoDB, Express, Angular, Node.js)</td>\n",
       "      <td>https://yourdomain.com/mean-portfolio/index.html</td>\n",
       "    </tr>\n",
       "    <tr>\n",
       "      <th>2</th>\n",
       "      <td>LAMP (Linux, Apache, MySQL, PHP)</td>\n",
       "      <td>https://yourdomain.com/lamp-portfolio/home.php</td>\n",
       "    </tr>\n",
       "    <tr>\n",
       "      <th>3</th>\n",
       "      <td>JAMstack (JavaScript, APIs, Markup)</td>\n",
       "      <td>https://yourdomain.com/jamstack-portfolio/inde...</td>\n",
       "    </tr>\n",
       "    <tr>\n",
       "      <th>4</th>\n",
       "      <td>Django (Python, Django, PostgreSQL)</td>\n",
       "      <td>https://yourdomain.com/django-portfolio/home.html</td>\n",
       "    </tr>\n",
       "    <tr>\n",
       "      <th>5</th>\n",
       "      <td>Ruby on Rails (Ruby, Rails, PostgreSQL)</td>\n",
       "      <td>https://yourdomain.com/rails-portfolio/index.html</td>\n",
       "    </tr>\n",
       "    <tr>\n",
       "      <th>6</th>\n",
       "      <td>Flutter (Dart, Flutter, Firebase)</td>\n",
       "      <td>https://yourdomain.com/flutter-portfolio/app.html</td>\n",
       "    </tr>\n",
       "    <tr>\n",
       "      <th>7</th>\n",
       "      <td>ASP.NET (C#, ASP.NET, SQL Server)</td>\n",
       "      <td>https://yourdomain.com/aspnet-portfolio/index....</td>\n",
       "    </tr>\n",
       "    <tr>\n",
       "      <th>8</th>\n",
       "      <td>Spring Boot (Java, Spring, MySQL)</td>\n",
       "      <td>https://yourdomain.com/springboot-portfolio/ho...</td>\n",
       "    </tr>\n",
       "    <tr>\n",
       "      <th>9</th>\n",
       "      <td>Vue.js + Laravel (Vue.js, Laravel, MySQL)</td>\n",
       "      <td>https://yourdomain.com/vue-laravel-portfolio/i...</td>\n",
       "    </tr>\n",
       "    <tr>\n",
       "      <th>10</th>\n",
       "      <td>Serverless (AWS Lambda, API Gateway)</td>\n",
       "      <td>https://yourdomain.com/serverless-portfolio/ap...</td>\n",
       "    </tr>\n",
       "    <tr>\n",
       "      <th>11</th>\n",
       "      <td>WordPress (PHP, MySQL)</td>\n",
       "      <td>https://yourdomain.com/wordpress-portfolio/ind...</td>\n",
       "    </tr>\n",
       "    <tr>\n",
       "      <th>12</th>\n",
       "      <td>React Native (React Native, Firebase)</td>\n",
       "      <td>https://yourdomain.com/reactnative-portfolio/a...</td>\n",
       "    </tr>\n",
       "    <tr>\n",
       "      <th>13</th>\n",
       "      <td>Android (Java/Kotlin, Android Studio)</td>\n",
       "      <td>https://yourdomain.com/android-portfolio/app.html</td>\n",
       "    </tr>\n",
       "    <tr>\n",
       "      <th>14</th>\n",
       "      <td>iOS (Swift, Xcode)</td>\n",
       "      <td>https://yourdomain.com/ios-portfolio/app.html</td>\n",
       "    </tr>\n",
       "  </tbody>\n",
       "</table>\n",
       "</div>"
      ],
      "text/plain": [
       "                                    Techstack  \\\n",
       "0     MERN (MongoDB, Express, React, Node.js)   \n",
       "1   MEAN (MongoDB, Express, Angular, Node.js)   \n",
       "2            LAMP (Linux, Apache, MySQL, PHP)   \n",
       "3         JAMstack (JavaScript, APIs, Markup)   \n",
       "4         Django (Python, Django, PostgreSQL)   \n",
       "5     Ruby on Rails (Ruby, Rails, PostgreSQL)   \n",
       "6           Flutter (Dart, Flutter, Firebase)   \n",
       "7           ASP.NET (C#, ASP.NET, SQL Server)   \n",
       "8           Spring Boot (Java, Spring, MySQL)   \n",
       "9   Vue.js + Laravel (Vue.js, Laravel, MySQL)   \n",
       "10       Serverless (AWS Lambda, API Gateway)   \n",
       "11                     WordPress (PHP, MySQL)   \n",
       "12      React Native (React Native, Firebase)   \n",
       "13      Android (Java/Kotlin, Android Studio)   \n",
       "14                         iOS (Swift, Xcode)   \n",
       "\n",
       "                                                Links  \n",
       "0    https://yourdomain.com/mern-portfolio/index.html  \n",
       "1    https://yourdomain.com/mean-portfolio/index.html  \n",
       "2      https://yourdomain.com/lamp-portfolio/home.php  \n",
       "3   https://yourdomain.com/jamstack-portfolio/inde...  \n",
       "4   https://yourdomain.com/django-portfolio/home.html  \n",
       "5   https://yourdomain.com/rails-portfolio/index.html  \n",
       "6   https://yourdomain.com/flutter-portfolio/app.html  \n",
       "7   https://yourdomain.com/aspnet-portfolio/index....  \n",
       "8   https://yourdomain.com/springboot-portfolio/ho...  \n",
       "9   https://yourdomain.com/vue-laravel-portfolio/i...  \n",
       "10  https://yourdomain.com/serverless-portfolio/ap...  \n",
       "11  https://yourdomain.com/wordpress-portfolio/ind...  \n",
       "12  https://yourdomain.com/reactnative-portfolio/a...  \n",
       "13  https://yourdomain.com/android-portfolio/app.html  \n",
       "14      https://yourdomain.com/ios-portfolio/app.html  "
      ]
     },
     "execution_count": 23,
     "metadata": {},
     "output_type": "execute_result"
    }
   ],
   "source": [
    "import pandas as pd\n",
    "\n",
    "df = pd.read_csv('my_portfolio.csv')\n",
    "df"
   ]
  },
  {
   "cell_type": "code",
   "execution_count": 28,
   "id": "d714c719-61ec-44fa-89e4-9c8e9e20836c",
   "metadata": {},
   "outputs": [],
   "source": [
    "import uuid\n",
    "import chromadb\n",
    "\n",
    "client = chromadb.PersistentClient('vectorstore')\n",
    "collection = client.get_or_create_collection(name=\"portfolio\")\n",
    "\n",
    "if not collection.count():\n",
    "    for _, row in df.iterrows():\n",
    "        collection.add(documents=row[\"Techstack\"],\n",
    "                       metadatas={\"links\": row[\"Links\"]},\n",
    "                       ids=[str(uuid.uuid4())])"
   ]
  },
  {
   "cell_type": "code",
   "execution_count": 43,
   "id": "2dd0b636-2209-47b5-824a-f77d462e27df",
   "metadata": {},
   "outputs": [
    {
     "data": {
      "text/plain": [
       "[[{'links': 'https://yourdomain.com/django-portfolio/home.html'},\n",
       "  {'links': 'https://yourdomain.com/aspnet-portfolio/index.aspx'}],\n",
       " [{'links': 'https://yourdomain.com/flutter-portfolio/app.html'},\n",
       "  {'links': 'https://yourdomain.com/ios-portfolio/app.html'}],\n",
       " [{'links': 'https://yourdomain.com/django-portfolio/home.html'},\n",
       "  {'links': 'https://yourdomain.com/jamstack-portfolio/index.html'}],\n",
       " [{'links': 'https://yourdomain.com/aspnet-portfolio/index.aspx'},\n",
       "  {'links': 'https://yourdomain.com/wordpress-portfolio/index.php'}],\n",
       " [{'links': 'https://yourdomain.com/springboot-portfolio/home.html'},\n",
       "  {'links': 'https://yourdomain.com/mern-portfolio/index.html'}],\n",
       " [{'links': 'https://yourdomain.com/rails-portfolio/index.html'},\n",
       "  {'links': 'https://yourdomain.com/aspnet-portfolio/index.aspx'}],\n",
       " [{'links': 'https://yourdomain.com/jamstack-portfolio/index.html'},\n",
       "  {'links': 'https://yourdomain.com/android-portfolio/app.html'}],\n",
       " [{'links': 'https://yourdomain.com/jamstack-portfolio/index.html'},\n",
       "  {'links': 'https://yourdomain.com/android-portfolio/app.html'}],\n",
       " [{'links': 'https://yourdomain.com/aspnet-portfolio/index.aspx'},\n",
       "  {'links': 'https://yourdomain.com/wordpress-portfolio/index.php'}],\n",
       " [{'links': 'https://yourdomain.com/lamp-portfolio/home.php'},\n",
       "  {'links': 'https://yourdomain.com/wordpress-portfolio/index.php'}],\n",
       " [{'links': 'https://yourdomain.com/rails-portfolio/index.html'},\n",
       "  {'links': 'https://yourdomain.com/lamp-portfolio/home.php'}],\n",
       " [{'links': 'https://yourdomain.com/wordpress-portfolio/index.php'},\n",
       "  {'links': 'https://yourdomain.com/lamp-portfolio/home.php'}],\n",
       " [{'links': 'https://yourdomain.com/ios-portfolio/app.html'},\n",
       "  {'links': 'https://yourdomain.com/lamp-portfolio/home.php'}],\n",
       " [{'links': 'https://yourdomain.com/ios-portfolio/app.html'},\n",
       "  {'links': 'https://yourdomain.com/lamp-portfolio/home.php'}]]"
      ]
     },
     "execution_count": 43,
     "metadata": {},
     "output_type": "execute_result"
    }
   ],
   "source": [
    "links = collection.query(query_texts=job['skills'], n_results=2).get('metadatas', [])\n",
    "links"
   ]
  },
  {
   "cell_type": "code",
   "execution_count": 41,
   "id": "cad3cf7c-0ba5-4319-a748-f4c13f92c59a",
   "metadata": {},
   "outputs": [
    {
     "data": {
      "text/plain": [
       "['Python',\n",
       " 'Generative AI',\n",
       " 'Large Language Models',\n",
       " 'Machine Learning',\n",
       " 'LLMs',\n",
       " 'prompt engineering',\n",
       " 'LangChain',\n",
       " 'RAG',\n",
       " 'semantic search',\n",
       " 'NLP',\n",
       " 'Agent systems',\n",
       " 'unstructured data',\n",
       " 'German',\n",
       " 'English']"
      ]
     },
     "execution_count": 41,
     "metadata": {},
     "output_type": "execute_result"
    }
   ],
   "source": [
    "job = json_res\n",
    "job['skills']"
   ]
  },
  {
   "cell_type": "code",
   "execution_count": null,
   "id": "272dd2db-3aec-4a1f-ae6d-98960576ce8d",
   "metadata": {},
   "outputs": [],
   "source": [
    "prompt_email = PromptTemplate.from_template(\n",
    "    \"\"\"\n",
    "    ### JOB DESCRIPTION:\n",
    "    {job_description}\n",
    "\n",
    "    ### INSTRUCTION:\n",
    "    You are Subramanyam, a business development executive at Delorp. Delorp is an AI & Software Consulting the \n",
    "    seamlesss integration of business processes through automated tools.\n",
    "    Over our experience, we have empowered numerous enterprises with tailored solutions, fostering process\n",
    "    optimization, cost reduction and heightened overall efficiency.\n",
    "    Your job is to write a cold email to the client regarding the job mentioned above in fulfilling their needs.\n",
    "    Also add the most relevant ones from the following links to shocase Delorp's portfolio: {link_list}\n",
    "    Remember you are Subramanyam, BDE at Atliq.\n",
    "    Do not provide a preamble.\n",
    "    ### EMAIL (NO PREAMBLE)\n",
    "    \"\"\"\n",
    ")"
   ]
  }
 ],
 "metadata": {
  "kernelspec": {
   "display_name": "Python 3 (ipykernel)",
   "language": "python",
   "name": "python3"
  },
  "language_info": {
   "codemirror_mode": {
    "name": "ipython",
    "version": 3
   },
   "file_extension": ".py",
   "mimetype": "text/x-python",
   "name": "python",
   "nbconvert_exporter": "python",
   "pygments_lexer": "ipython3",
   "version": "3.11.4"
  }
 },
 "nbformat": 4,
 "nbformat_minor": 5
}
